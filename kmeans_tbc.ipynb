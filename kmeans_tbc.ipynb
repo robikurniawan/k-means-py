{
  "cells": [
    {
      "cell_type": "markdown",
      "metadata": {
        "id": "view-in-github",
        "colab_type": "text"
      },
      "source": [
        "<a href=\"https://colab.research.google.com/github/robikurniawan/k-means-py/blob/main/kmeans_tbc.ipynb\" target=\"_parent\"><img src=\"https://colab.research.google.com/assets/colab-badge.svg\" alt=\"Open In Colab\"/></a>"
      ]
    },
    {
      "cell_type": "markdown",
      "metadata": {
        "id": "Fc9XavbvW7EG"
      },
      "source": [
        "# Library "
      ]
    },
    {
      "cell_type": "code",
      "execution_count": 2,
      "metadata": {
        "id": "ezkop2KGW7Ec"
      },
      "outputs": [],
      "source": [
        "import numpy as np \n",
        "import pandas as pd\n",
        "import matplotlib.pyplot as plt\n",
        "import seaborn as sns\n",
        "\n",
        "from sklearn.cluster import KMeans\n",
        "from sklearn import datasets\n",
        "from sklearn.compose import make_column_transformer\n",
        "\n",
        "from sklearn.preprocessing import StandardScaler,LabelEncoder,OneHotEncoder,RobustScaler\n",
        "from yellowbrick.cluster import KElbowVisualizer\n",
        "from sklearn import preprocessing\n"
      ]
    },
    {
      "cell_type": "markdown",
      "metadata": {
        "id": "KxVwAcpLW7Ef"
      },
      "source": [
        "\n",
        "# 1. Dataset Process"
      ]
    },
    {
      "cell_type": "code",
      "execution_count": 4,
      "metadata": {
        "id": "juYBvUH9W7Eg"
      },
      "outputs": [],
      "source": [
        "df = pd.read_csv('dataset_tbc.csv')\n",
        "\n",
        "# 1 mengubah nilai karakter (string) menjadi numerik agar dapat diproses oleh kmeans\n",
        "encoder1 = preprocessing.LabelEncoder()\n",
        "encoder1.fit(df['jk'])\n",
        "\n",
        "encoder2 = preprocessing.LabelEncoder()\n",
        "encoder2.fit(df['pembayaran'])\n",
        "\n",
        "encoder3 = preprocessing.LabelEncoder()\n",
        "encoder3.fit(df['kec'])\n",
        "\n",
        "df['jk'] =  encoder1.transform(df['jk'])\n",
        "df['pembayaran'] = encoder2.transform(df['pembayaran'])   \n",
        "df['kec'] = encoder3.transform(df['kec'])   \n",
        "# 1 end\n",
        "\n",
        "df = df.drop(['no','kelompok_umur'],axis=1)"
      ]
    },
    {
      "cell_type": "markdown",
      "metadata": {
        "id": "jKbhesnVW7Ek"
      },
      "source": [
        "# 2. Normalisasi Data "
      ]
    },
    {
      "cell_type": "code",
      "execution_count": 18,
      "metadata": {
        "id": "mhJNZxT4W7Ek",
        "outputId": "13b5d877-7a6e-4ad2-a9d0-2e651d1a7235",
        "colab": {
          "base_uri": "https://localhost:8080/",
          "height": 927
        }
      },
      "outputs": [
        {
          "output_type": "execute_result",
          "data": {
            "text/html": [
              "<div>\n",
              "<style scoped>\n",
              "    .dataframe tbody tr th:only-of-type {\n",
              "        vertical-align: middle;\n",
              "    }\n",
              "\n",
              "    .dataframe tbody tr th {\n",
              "        vertical-align: top;\n",
              "    }\n",
              "\n",
              "    .dataframe thead th {\n",
              "        text-align: right;\n",
              "    }\n",
              "</style>\n",
              "<table border=\"1\" class=\"dataframe\">\n",
              "  <thead>\n",
              "    <tr style=\"text-align: right;\">\n",
              "      <th></th>\n",
              "      <th>kec</th>\n",
              "      <th>pembayaran</th>\n",
              "      <th>jumlah_penderita</th>\n",
              "      <th>kec_t</th>\n",
              "      <th>tahun_t</th>\n",
              "      <th>jumlah_penderita_t</th>\n",
              "    </tr>\n",
              "  </thead>\n",
              "  <tbody>\n",
              "    <tr>\n",
              "      <th>0</th>\n",
              "      <td>0</td>\n",
              "      <td>0</td>\n",
              "      <td>68</td>\n",
              "      <td>0.000000</td>\n",
              "      <td>0.0</td>\n",
              "      <td>0.656566</td>\n",
              "    </tr>\n",
              "    <tr>\n",
              "      <th>1</th>\n",
              "      <td>0</td>\n",
              "      <td>1</td>\n",
              "      <td>15</td>\n",
              "      <td>0.000000</td>\n",
              "      <td>1.0</td>\n",
              "      <td>0.121212</td>\n",
              "    </tr>\n",
              "    <tr>\n",
              "      <th>2</th>\n",
              "      <td>1</td>\n",
              "      <td>0</td>\n",
              "      <td>57</td>\n",
              "      <td>0.076923</td>\n",
              "      <td>0.0</td>\n",
              "      <td>0.545455</td>\n",
              "    </tr>\n",
              "    <tr>\n",
              "      <th>3</th>\n",
              "      <td>1</td>\n",
              "      <td>1</td>\n",
              "      <td>15</td>\n",
              "      <td>0.076923</td>\n",
              "      <td>1.0</td>\n",
              "      <td>0.121212</td>\n",
              "    </tr>\n",
              "    <tr>\n",
              "      <th>4</th>\n",
              "      <td>2</td>\n",
              "      <td>0</td>\n",
              "      <td>67</td>\n",
              "      <td>0.153846</td>\n",
              "      <td>0.0</td>\n",
              "      <td>0.646465</td>\n",
              "    </tr>\n",
              "    <tr>\n",
              "      <th>5</th>\n",
              "      <td>2</td>\n",
              "      <td>1</td>\n",
              "      <td>20</td>\n",
              "      <td>0.153846</td>\n",
              "      <td>1.0</td>\n",
              "      <td>0.171717</td>\n",
              "    </tr>\n",
              "    <tr>\n",
              "      <th>6</th>\n",
              "      <td>3</td>\n",
              "      <td>0</td>\n",
              "      <td>18</td>\n",
              "      <td>0.230769</td>\n",
              "      <td>0.0</td>\n",
              "      <td>0.151515</td>\n",
              "    </tr>\n",
              "    <tr>\n",
              "      <th>7</th>\n",
              "      <td>3</td>\n",
              "      <td>1</td>\n",
              "      <td>8</td>\n",
              "      <td>0.230769</td>\n",
              "      <td>1.0</td>\n",
              "      <td>0.050505</td>\n",
              "    </tr>\n",
              "    <tr>\n",
              "      <th>8</th>\n",
              "      <td>4</td>\n",
              "      <td>0</td>\n",
              "      <td>90</td>\n",
              "      <td>0.307692</td>\n",
              "      <td>0.0</td>\n",
              "      <td>0.878788</td>\n",
              "    </tr>\n",
              "    <tr>\n",
              "      <th>9</th>\n",
              "      <td>4</td>\n",
              "      <td>1</td>\n",
              "      <td>23</td>\n",
              "      <td>0.307692</td>\n",
              "      <td>1.0</td>\n",
              "      <td>0.202020</td>\n",
              "    </tr>\n",
              "    <tr>\n",
              "      <th>10</th>\n",
              "      <td>5</td>\n",
              "      <td>0</td>\n",
              "      <td>23</td>\n",
              "      <td>0.384615</td>\n",
              "      <td>0.0</td>\n",
              "      <td>0.202020</td>\n",
              "    </tr>\n",
              "    <tr>\n",
              "      <th>11</th>\n",
              "      <td>5</td>\n",
              "      <td>1</td>\n",
              "      <td>7</td>\n",
              "      <td>0.384615</td>\n",
              "      <td>1.0</td>\n",
              "      <td>0.040404</td>\n",
              "    </tr>\n",
              "    <tr>\n",
              "      <th>12</th>\n",
              "      <td>6</td>\n",
              "      <td>0</td>\n",
              "      <td>102</td>\n",
              "      <td>0.461538</td>\n",
              "      <td>0.0</td>\n",
              "      <td>1.000000</td>\n",
              "    </tr>\n",
              "    <tr>\n",
              "      <th>13</th>\n",
              "      <td>6</td>\n",
              "      <td>1</td>\n",
              "      <td>34</td>\n",
              "      <td>0.461538</td>\n",
              "      <td>1.0</td>\n",
              "      <td>0.313131</td>\n",
              "    </tr>\n",
              "    <tr>\n",
              "      <th>14</th>\n",
              "      <td>7</td>\n",
              "      <td>0</td>\n",
              "      <td>79</td>\n",
              "      <td>0.538462</td>\n",
              "      <td>0.0</td>\n",
              "      <td>0.767677</td>\n",
              "    </tr>\n",
              "    <tr>\n",
              "      <th>15</th>\n",
              "      <td>7</td>\n",
              "      <td>1</td>\n",
              "      <td>21</td>\n",
              "      <td>0.538462</td>\n",
              "      <td>1.0</td>\n",
              "      <td>0.181818</td>\n",
              "    </tr>\n",
              "    <tr>\n",
              "      <th>16</th>\n",
              "      <td>8</td>\n",
              "      <td>0</td>\n",
              "      <td>91</td>\n",
              "      <td>0.615385</td>\n",
              "      <td>0.0</td>\n",
              "      <td>0.888889</td>\n",
              "    </tr>\n",
              "    <tr>\n",
              "      <th>17</th>\n",
              "      <td>8</td>\n",
              "      <td>1</td>\n",
              "      <td>14</td>\n",
              "      <td>0.615385</td>\n",
              "      <td>1.0</td>\n",
              "      <td>0.111111</td>\n",
              "    </tr>\n",
              "    <tr>\n",
              "      <th>18</th>\n",
              "      <td>9</td>\n",
              "      <td>0</td>\n",
              "      <td>56</td>\n",
              "      <td>0.692308</td>\n",
              "      <td>0.0</td>\n",
              "      <td>0.535354</td>\n",
              "    </tr>\n",
              "    <tr>\n",
              "      <th>19</th>\n",
              "      <td>9</td>\n",
              "      <td>1</td>\n",
              "      <td>10</td>\n",
              "      <td>0.692308</td>\n",
              "      <td>1.0</td>\n",
              "      <td>0.070707</td>\n",
              "    </tr>\n",
              "    <tr>\n",
              "      <th>20</th>\n",
              "      <td>10</td>\n",
              "      <td>0</td>\n",
              "      <td>77</td>\n",
              "      <td>0.769231</td>\n",
              "      <td>0.0</td>\n",
              "      <td>0.747475</td>\n",
              "    </tr>\n",
              "    <tr>\n",
              "      <th>21</th>\n",
              "      <td>10</td>\n",
              "      <td>1</td>\n",
              "      <td>20</td>\n",
              "      <td>0.769231</td>\n",
              "      <td>1.0</td>\n",
              "      <td>0.171717</td>\n",
              "    </tr>\n",
              "    <tr>\n",
              "      <th>22</th>\n",
              "      <td>11</td>\n",
              "      <td>0</td>\n",
              "      <td>14</td>\n",
              "      <td>0.846154</td>\n",
              "      <td>0.0</td>\n",
              "      <td>0.111111</td>\n",
              "    </tr>\n",
              "    <tr>\n",
              "      <th>23</th>\n",
              "      <td>11</td>\n",
              "      <td>1</td>\n",
              "      <td>6</td>\n",
              "      <td>0.846154</td>\n",
              "      <td>1.0</td>\n",
              "      <td>0.030303</td>\n",
              "    </tr>\n",
              "    <tr>\n",
              "      <th>24</th>\n",
              "      <td>12</td>\n",
              "      <td>0</td>\n",
              "      <td>39</td>\n",
              "      <td>0.923077</td>\n",
              "      <td>0.0</td>\n",
              "      <td>0.363636</td>\n",
              "    </tr>\n",
              "    <tr>\n",
              "      <th>25</th>\n",
              "      <td>12</td>\n",
              "      <td>1</td>\n",
              "      <td>8</td>\n",
              "      <td>0.923077</td>\n",
              "      <td>1.0</td>\n",
              "      <td>0.050505</td>\n",
              "    </tr>\n",
              "    <tr>\n",
              "      <th>26</th>\n",
              "      <td>13</td>\n",
              "      <td>0</td>\n",
              "      <td>14</td>\n",
              "      <td>1.000000</td>\n",
              "      <td>0.0</td>\n",
              "      <td>0.111111</td>\n",
              "    </tr>\n",
              "    <tr>\n",
              "      <th>27</th>\n",
              "      <td>13</td>\n",
              "      <td>1</td>\n",
              "      <td>3</td>\n",
              "      <td>1.000000</td>\n",
              "      <td>1.0</td>\n",
              "      <td>0.000000</td>\n",
              "    </tr>\n",
              "  </tbody>\n",
              "</table>\n",
              "</div>"
            ],
            "text/plain": [
              "    kec  pembayaran  jumlah_penderita     kec_t  tahun_t  jumlah_penderita_t\n",
              "0     0           0                68  0.000000      0.0            0.656566\n",
              "1     0           1                15  0.000000      1.0            0.121212\n",
              "2     1           0                57  0.076923      0.0            0.545455\n",
              "3     1           1                15  0.076923      1.0            0.121212\n",
              "4     2           0                67  0.153846      0.0            0.646465\n",
              "5     2           1                20  0.153846      1.0            0.171717\n",
              "6     3           0                18  0.230769      0.0            0.151515\n",
              "7     3           1                 8  0.230769      1.0            0.050505\n",
              "8     4           0                90  0.307692      0.0            0.878788\n",
              "9     4           1                23  0.307692      1.0            0.202020\n",
              "10    5           0                23  0.384615      0.0            0.202020\n",
              "11    5           1                 7  0.384615      1.0            0.040404\n",
              "12    6           0               102  0.461538      0.0            1.000000\n",
              "13    6           1                34  0.461538      1.0            0.313131\n",
              "14    7           0                79  0.538462      0.0            0.767677\n",
              "15    7           1                21  0.538462      1.0            0.181818\n",
              "16    8           0                91  0.615385      0.0            0.888889\n",
              "17    8           1                14  0.615385      1.0            0.111111\n",
              "18    9           0                56  0.692308      0.0            0.535354\n",
              "19    9           1                10  0.692308      1.0            0.070707\n",
              "20   10           0                77  0.769231      0.0            0.747475\n",
              "21   10           1                20  0.769231      1.0            0.171717\n",
              "22   11           0                14  0.846154      0.0            0.111111\n",
              "23   11           1                 6  0.846154      1.0            0.030303\n",
              "24   12           0                39  0.923077      0.0            0.363636\n",
              "25   12           1                 8  0.923077      1.0            0.050505\n",
              "26   13           0                14  1.000000      0.0            0.111111\n",
              "27   13           1                 3  1.000000      1.0            0.000000"
            ]
          },
          "metadata": {},
          "execution_count": 18
        }
      ],
      "source": [
        "\n",
        "# 1. mengelompokan data (grouping) berdasarkan kecamatan dan jenis pembayaran\n",
        "# data_group = df.groupby(['kec']).aggregate({\n",
        "#     'kec': 'none'\n",
        "# })\n",
        "data_group = df.groupby(['kec','pembayaran']).aggregate({\n",
        "    'pembayaran': 'count',\n",
        "})\n",
        "\n",
        "\n",
        "data_group.columns = data_group.columns.map('_'.join)\n",
        "data_group = data_group.reset_index()\n",
        "data_group.rename(columns={ 'p_e_m_b_a_y_a_r_a_n':'jumlah_penderita'}, inplace=True)\n",
        "\n",
        "scaler = preprocessing.MinMaxScaler()\n",
        "data_group[['kec_t','tahun_t','jumlah_penderita_t']]  = scaler.fit_transform(data_group)\n",
        "# data_group = scaler.fit_transform(data_group)\n",
        "data_group\n",
        "#normalisasi\n",
        "\n",
        "\n",
        "\n"
      ]
    },
    {
      "cell_type": "markdown",
      "metadata": {
        "id": "f3Nit-24W7En"
      },
      "source": [
        "# 3. Plot Sebaran Data "
      ]
    },
    {
      "cell_type": "code",
      "execution_count": 19,
      "metadata": {
        "id": "EbLbVhpRW7Eo",
        "outputId": "a3a92bc3-6ed8-4bc1-8c97-44231fd0eca0",
        "colab": {
          "base_uri": "https://localhost:8080/",
          "height": 376
        }
      },
      "outputs": [
        {
          "output_type": "display_data",
          "data": {
            "image/png": "[encoded data removed]",
            "text/plain": [
              "<Figure size 576x396 with 1 Axes>"
            ]
          },
          "metadata": {}
        }
      ],
      "source": [
        "kec = data_group.iloc[:,0]\n",
        "penderita = data_group.iloc[:,2]\n",
        "\n",
        "plt.scatter(kec,penderita)\n",
        "plt.ylabel('Penderita TBC')\n",
        "plt.xlabel('Kecamatan')\n",
        "plt.title('Sebaran data ')\n",
        "plt.show()"
      ]
    },
    {
      "cell_type": "code",
      "execution_count": 20,
      "metadata": {
        "id": "p-XT4NcIW7Ep",
        "outputId": "8694ca71-c10d-4fe7-a73d-457edb8a7783",
        "colab": {
          "base_uri": "https://localhost:8080/",
          "height": 376
        }
      },
      "outputs": [
        {
          "output_type": "display_data",
          "data": {
            "image/png": "[encoded data removed]",
            "text/plain": [
              "<Figure size 576x396 with 1 Axes>"
            ]
          },
          "metadata": {}
        }
      ],
      "source": [
        "# kec = data_group.pembayaran_t\n",
        "# kec = data_group[:,0]\n",
        "# penderita = data_group[:,2]\n",
        "\n",
        "kec_normalisasi = data_group.iloc[:,3]\n",
        "penderita_normalisasi = data_group.iloc[:,5]\n",
        "\n",
        "plt.scatter(kec_normalisasi,penderita_normalisasi)\n",
        "plt.ylabel('Penderita TBC')\n",
        "plt.xlabel('Kecamatan')\n",
        "plt.title('Normalisasi Sebaran data ')\n",
        "plt.show()\n"
      ]
    },
    {
      "cell_type": "markdown",
      "metadata": {
        "id": "aH3cAmgHW7Eq"
      },
      "source": [
        "# 3. Penentuan Jumlah Kluster   \n",
        "proses penentuan kluster (k) menggunakan elbow method"
      ]
    },
    {
      "cell_type": "code",
      "execution_count": 21,
      "metadata": {
        "id": "dd21azM3W7Er",
        "outputId": "07847bf1-0389-4919-84c2-56c0c81c35a8",
        "colab": {
          "base_uri": "https://localhost:8080/",
          "height": 393
        }
      },
      "outputs": [
        {
          "output_type": "display_data",
          "data": {
            "image/png": "[encoded data removed]",
            "text/plain": [
              "<Figure size 576x396 with 1 Axes>"
            ]
          },
          "metadata": {}
        },
        {
          "output_type": "stream",
          "name": "stdout",
          "text": [
            "0.766517490682215\n"
          ]
        }
      ],
      "source": [
        "X =  data_group.drop(['kec','jumlah_penderita'],axis=1)\n",
        "\n",
        "sse = []\n",
        "for i in range(1,11):\n",
        "    kmeans = KMeans(n_clusters= i, init = 'k-means++', random_state = 42 )\n",
        "    kmeans.fit(X)\n",
        "    sse.append(kmeans.inertia_)\n",
        "\n",
        "plt.plot(range(1,11),sse)\n",
        "plt.title('Metode Elbow : Penentuan K')\n",
        "plt.xlabel('K')\n",
        "plt.ylabel('SSE')\n",
        "plt.show()\n",
        "\n",
        "print(sse[5])\n",
        "    "
      ]
    },
    {
      "cell_type": "markdown",
      "metadata": {
        "id": "cY-PGYByW7Es"
      },
      "source": [
        "Dilihat dari nilai **elbow method**, nilai K yang paling optimum adalah **3**  maka otomatis nilai centroid juga adalah 3 "
      ]
    },
    {
      "cell_type": "code",
      "execution_count": 33,
      "metadata": {
        "id": "LF06I3QrW7Et",
        "outputId": "d7031d70-addd-402c-a297-f5ea8b68edcd",
        "colab": {
          "base_uri": "https://localhost:8080/",
          "height": 362
        }
      },
      "outputs": [
        {
          "output_type": "display_data",
          "data": {
            "image/png": "[encoded data removed]",
            "text/plain": [
              "<Figure size 576x396 with 1 Axes>"
            ]
          },
          "metadata": {}
        }
      ],
      "source": [
        "kmeans = KMeans(n_clusters = 3, random_state=120, max_iter=300)\n",
        "kmeans.fit(X)\n",
        "# y_kmeans = kmeans.predict(X)\n",
        "X[\"kluster\"] = kmeans.labels_\n",
        "centers = kmeans.cluster_centers_\n",
        "\n",
        "plt.scatter(X['kec_t'], X['jumlah_penderita_t'], c = kmeans.labels_ ,  marker=\"o\", cmap='plasma' , s = 150);\n",
        "plt.scatter(centers[:,0], centers[:,1] , c='red', s=300, alpha=1 , marker=\"x\", );\n",
        "\n",
        "plt.title(\"Hasil Klustering K-Means\")\n",
        "plt.show()\n",
        "\n",
        "# # centroid coordinate\n",
        "# X\n",
        "\n",
        "\n",
        "\n",
        "# plt.hist(X['kluster'])"
      ]
    }
  ],
  "metadata": {
    "interpreter": {
      "hash": "997ad53551ace000d6ac7ba7c37e913f9b0d29474a5a3b5b81cae72735012e0b"
    },
    "kernelspec": {
      "display_name": "Python 3.9.7 64-bit ('base': conda)",
      "language": "python",
      "name": "python3"
    },
    "language_info": {
      "codemirror_mode": {
        "name": "ipython",
        "version": 3
      },
      "file_extension": ".py",
      "mimetype": "text/x-python",
      "name": "python",
      "nbconvert_exporter": "python",
      "pygments_lexer": "ipython3",
      "version": "3.9.7"
    },
    "orig_nbformat": 4,
    "colab": {
      "name": "kmeans_tbc.ipynb",
      "provenance": [],
      "toc_visible": true,
      "collapsed_sections": [],
      "include_colab_link": true
    }
  },
  "nbformat": 4,
  "nbformat_minor": 0
}